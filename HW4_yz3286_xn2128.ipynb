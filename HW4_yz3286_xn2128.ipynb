{
 "cells": [
  {
   "cell_type": "code",
   "execution_count": 12,
   "metadata": {},
   "outputs": [
    {
     "name": "stdout",
     "output_type": "stream",
     "text": [
      "[[   0  206  429 1504  963 2976 3095 2979 1949]\n",
      " [ 206    0  233 1308  802 2815 2934 2786 1771]\n",
      " [ 429  233    0 1075  671 2684 2799 2631 1616]\n",
      " [1504 1308 1075    0 1329 3273 3053 2687 2037]\n",
      " [ 963  802  671 1329    0 2013 2142 2054  996]\n",
      " [2976 2815 2684 3273 2013    0  808 1131 1307]\n",
      " [3095 2934 2799 3053 2142  808    0  379 1235]\n",
      " [2979 2786 2631 2687 2054 1131  379    0 1059]\n",
      " [1949 1771 1616 2037  996 1307 1235 1059    0]]\n"
     ]
    }
   ],
   "source": [
    "import numpy as np\n",
    "import pandas as pd\n",
    "import matplotlib.pyplot as plt\n",
    "import pylab\n",
    "df = pd.read_csv(\"D:/Columbia Stat/4771 Machine Learning/HW4/data.csv\", header = None)\n",
    "df = np.array(df)\n",
    "print(df)"
   ]
  },
  {
   "cell_type": "code",
   "execution_count": 23,
   "metadata": {},
   "outputs": [
    {
     "name": "stdout",
     "output_type": "stream",
     "text": [
      "[[  2.08631239e+02   4.80638454e+02]\n",
      " [  3.34280098e+02   2.50421729e+02]\n",
      " [  2.48184895e+02   2.84810768e+02]\n",
      " [  4.13103470e+02   1.04504694e+02]\n",
      " [  3.67902844e-01   2.09820117e+02]\n",
      " [  1.37171221e+02   2.41919560e+02]\n",
      " [  3.95984010e+02   4.37365092e+02]\n",
      " [  1.25680020e+02   1.40078791e+02]\n",
      " [  1.11489523e+02   1.79965691e+02]]\n"
     ]
    }
   ],
   "source": [
    "x = np.zeros((9,2))\n",
    "for i in range(9):\n",
    "    x[i] = 500*np.random.rand(2)\n",
    "print(x)"
   ]
  },
  {
   "cell_type": "code",
   "execution_count": 4,
   "metadata": {
    "collapsed": true
   },
   "outputs": [],
   "source": [
    "def gradient_descent(x,alpha, iterations, eps=10**(-6)):\n",
    "    loss=np.inf\n",
    "    for iteration in range(iterations):\n",
    "        new_loss = 0\n",
    "        gradient = np.zeros((9,2))\n",
    "        # Hypothesis Values\n",
    "        for i in range(9):\n",
    "            for j in range(9):\n",
    "                if i != j:\n",
    "                    # Gradient Calculation\n",
    "                    gradient[i] += 2*(x[i]-x[j])-2*df[i,j]*(x[i]-x[j])/np.linalg.norm(x[i] - x[j])\n",
    "        # Changing Values of B using Gradient\n",
    "        x = x - alpha * gradient\n",
    "        for i in range(9):\n",
    "            for j in range(9):\n",
    "                if i != j:\n",
    "                    h = np.linalg.norm(x[i] - x[j])\n",
    "                    new_loss += (h-df[i,j])**2\n",
    "        if abs(loss-new_loss)<eps:\n",
    "            break\n",
    "        loss=new_loss\n",
    "        if iteration%10==0:\n",
    "            print(loss) \n",
    "            \n",
    "    return (x)"
   ]
  },
  {
   "cell_type": "code",
   "execution_count": 24,
   "metadata": {},
   "outputs": [
    {
     "name": "stdout",
     "output_type": "stream",
     "text": [
      "171930093.445\n",
      "2831198.05353\n",
      "1822931.21163\n",
      "1809014.90457\n",
      "1807405.64657\n",
      "235488.149718\n",
      "56432.6828524\n",
      "56378.1540694\n",
      "56374.372058\n",
      "56374.1078765\n",
      "56374.0893936\n",
      "56374.0881\n",
      "56374.0880094\n"
     ]
    }
   ],
   "source": [
    "x_new = gradient_descent(x, 0.1, 10000)"
   ]
  },
  {
   "cell_type": "code",
   "execution_count": 25,
   "metadata": {},
   "outputs": [
    {
     "data": {
      "image/png": "[encoded data removed]",
      "text/plain": [
       "<matplotlib.figure.Figure at 0x3b348b0>"
      ]
     },
     "metadata": {},
     "output_type": "display_data"
    }
   ],
   "source": [
    "cities=['BOS','NYC','DC','MIA','CHI','SEA','SF','LA','DEN']\n",
    "fig, ax = plt.subplots()\n",
    "ax.scatter(x_new[:,0], x_new[:,1])\n",
    "for i, txt in enumerate(cities):\n",
    "    ax.annotate(txt, (x_new[i,0], x_new[i,1]))\n",
    "plt.show()"
   ]
  }
 ],
 "metadata": {
  "kernelspec": {
   "display_name": "Python 3",
   "language": "python",
   "name": "python3"
  },
  "language_info": {
   "codemirror_mode": {
    "name": "ipython",
    "version": 3
   },
   "file_extension": ".py",
   "mimetype": "text/x-python",
   "name": "python",
   "nbconvert_exporter": "python",
   "pygments_lexer": "ipython3",
   "version": "3.6.5"
  }
 },
 "nbformat": 4,
 "nbformat_minor": 2
}
